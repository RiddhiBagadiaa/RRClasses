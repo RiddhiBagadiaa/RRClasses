{
  "nbformat": 4,
  "nbformat_minor": 0,
  "metadata": {
    "colab": {
      "name": "Scrape class info.ipynb",
      "provenance": []
    },
    "kernelspec": {
      "name": "python3",
      "display_name": "Python 3"
    }
  },
  "cells": [
    {
      "cell_type": "code",
      "metadata": {
        "id": "4plOU_pclWA7",
        "colab_type": "code",
        "colab": {}
      },
      "source": [
        "from bs4 import BeautifulSoup\n",
        "import requests\n",
        "import json"
      ],
      "execution_count": 0,
      "outputs": []
    },
    {
      "cell_type": "code",
      "metadata": {
        "id": "M9lW2bRNZ-ih",
        "colab_type": "code",
        "colab": {
          "base_uri": "https://localhost:8080/",
          "height": 428
        },
        "outputId": "b64cb23f-0c28-4ac0-96fa-5383152c6de2"
      },
      "source": [
        "!pip install selenium\n",
        "!apt-get update # to update ubuntu to correctly run apt install\n",
        "!apt install chromium-chromedriver\n",
        "!cp /usr/lib/chromium-browser/chromedriver /usr/bin\n",
        "import sys\n",
        "sys.path.insert(0,'/usr/lib/chromium-browser/chromedriver')\n",
        "from selenium import webdriver\n",
        "chrome_options = webdriver.ChromeOptions()\n",
        "chrome_options.add_argument('--headless')\n",
        "chrome_options.add_argument('--no-sandbox')\n",
        "chrome_options.add_argument('--disable-dev-shm-usage')\n",
        "#wd = webdriver.Chrome('chromedriver',chrome_options=chrome_options)\n",
        "#wd.get(\"https://www.webite-url.com\")"
      ],
      "execution_count": 24,
      "outputs": [
        {
          "output_type": "stream",
          "text": [
            "Requirement already satisfied: selenium in /usr/local/lib/python3.6/dist-packages (3.141.0)\n",
            "Requirement already satisfied: urllib3 in /usr/local/lib/python3.6/dist-packages (from selenium) (1.24.3)\n",
            "Get:1 http://security.ubuntu.com/ubuntu bionic-security InRelease [88.7 kB]\n",
            "Ign:2 https://developer.download.nvidia.com/compute/cuda/repos/ubuntu1804/x86_64  InRelease\n",
            "Hit:3 http://ppa.launchpad.net/graphics-drivers/ppa/ubuntu bionic InRelease\n",
            "Ign:4 https://developer.download.nvidia.com/compute/machine-learning/repos/ubuntu1804/x86_64  InRelease\n",
            "Hit:5 http://archive.ubuntu.com/ubuntu bionic InRelease\n",
            "Hit:6 https://developer.download.nvidia.com/compute/cuda/repos/ubuntu1804/x86_64  Release\n",
            "Hit:7 https://cloud.r-project.org/bin/linux/ubuntu bionic-cran35/ InRelease\n",
            "Hit:8 https://developer.download.nvidia.com/compute/machine-learning/repos/ubuntu1804/x86_64  Release\n",
            "Get:9 http://archive.ubuntu.com/ubuntu bionic-updates InRelease [88.7 kB]\n",
            "Hit:11 http://ppa.launchpad.net/marutter/c2d4u3.5/ubuntu bionic InRelease\n",
            "Get:13 http://archive.ubuntu.com/ubuntu bionic-backports InRelease [74.6 kB]\n",
            "Get:14 http://archive.ubuntu.com/ubuntu bionic-updates/main amd64 Packages [1,228 kB]\n",
            "Get:15 http://archive.ubuntu.com/ubuntu bionic-updates/universe amd64 Packages [1,385 kB]\n",
            "Fetched 2,865 kB in 4s (810 kB/s)\n",
            "Reading package lists... Done\n",
            "Reading package lists... Done\n",
            "Building dependency tree       \n",
            "Reading state information... Done\n",
            "chromium-chromedriver is already the newest version (81.0.4044.138-0ubuntu0.18.04.1).\n",
            "0 upgraded, 0 newly installed, 0 to remove and 38 not upgraded.\n",
            "cp: '/usr/lib/chromium-browser/chromedriver' and '/usr/bin/chromedriver' are the same file\n"
          ],
          "name": "stdout"
        }
      ]
    },
    {
      "cell_type": "code",
      "metadata": {
        "id": "rVc3cFYhbYrs",
        "colab_type": "code",
        "colab": {}
      },
      "source": [
        "driver = webdriver.Chrome('chromedriver', options=chrome_options)\n",
        "driver.get(\"https://classes.berkeley.edu/search/site\")"
      ],
      "execution_count": 0,
      "outputs": []
    },
    {
      "cell_type": "code",
      "metadata": {
        "id": "7V70wRCr2HAD",
        "colab_type": "code",
        "colab": {}
      },
      "source": [
        "class_number = \"28081\""
      ],
      "execution_count": 0,
      "outputs": []
    },
    {
      "cell_type": "code",
      "metadata": {
        "id": "sM_tcxpAceos",
        "colab_type": "code",
        "colab": {}
      },
      "source": [
        "submit_button = driver.find_element_by_class_name(\"reset_search_button\")\n",
        "submit_button.click()\n",
        "#driver.get(driver.current_url)\n",
        "\n",
        "driver.find_element_by_id(\"facetapi-link--8131--checkbox\").click()\n",
        "\n",
        "driver.find_element_by_id(\"edit-keys\").send_keys(class_number)\n",
        "submit_button = driver.find_element_by_id(\"edit-submit\")\n",
        "submit_button.click()\n",
        "#print(driver.page_source)\n",
        "URL = driver.current_url"
      ],
      "execution_count": 0,
      "outputs": []
    },
    {
      "cell_type": "code",
      "metadata": {
        "id": "Dzi9ZMwalqhT",
        "colab_type": "code",
        "colab": {}
      },
      "source": [
        "#URL = 'https://classes.berkeley.edu/search/class/eecs%2520162?f%5B0%5D=im_field_term_name%3A1961&retain-filters=1'\n",
        "#lecture = 28218"
      ],
      "execution_count": 0,
      "outputs": []
    },
    {
      "cell_type": "code",
      "metadata": {
        "id": "6BkKyL6hl5wS",
        "colab_type": "code",
        "colab": {}
      },
      "source": [
        "content = requests.get(URL)\n",
        "soup = BeautifulSoup(content.text, 'html.parser')"
      ],
      "execution_count": 0,
      "outputs": []
    },
    {
      "cell_type": "code",
      "metadata": {
        "id": "Y3QZNovLmIj9",
        "colab_type": "code",
        "colab": {
          "base_uri": "https://localhost:8080/",
          "height": 85
        },
        "outputId": "af76a945-3133-4d0d-ca74-1d4d6cb82afb"
      },
      "source": [
        "info = soup.find_all('div', class_ = 'handlebarData theme_is_whitehot')\n",
        "#site_json=json.loads(info)\n",
        "#spec_info = info.attrs['data-enrollment']\n",
        "\n",
        "for eachClass in info:\n",
        "  enrollment_vals = eachClass.attrs['data-enrollment']\n",
        "  json_vals = eachClass.attrs['data-json']\n",
        "\n",
        "  enrollment_obj = json.loads(enrollment_vals)\n",
        "  json_obj = json.loads(json_vals)\n",
        "\n",
        "  if (enrollment_obj['available']['id'] == int(class_number)):\n",
        "    print(json_obj['displayName'])\n",
        "    print(\"class number \", class_number)\n",
        "    print(\"open seats \", enrollment_obj['available']['enrollmentStatus']['maxEnroll'] - enrollment_obj['available']['enrollmentStatus']['enrolledCount'])\n",
        "    print(\"open waitlist seats \", enrollment_obj['available']['enrollmentStatus']['maxWaitlist'] - enrollment_obj['available']['enrollmentStatus']['waitlistedCount'])"
      ],
      "execution_count": 34,
      "outputs": [
        {
          "output_type": "stream",
          "text": [
            "2020 Fall DESINV 15 001 LEC 001\n",
            "class number  28081\n",
            "open seats  20\n",
            "open waitlist seats  0\n"
          ],
          "name": "stdout"
        }
      ]
    },
    {
      "cell_type": "code",
      "metadata": {
        "id": "kA89wT_PLksR",
        "colab_type": "code",
        "colab": {}
      },
      "source": [
        "import os\n",
        "import time\n",
        "\n",
        "while True: \n",
        "  os.system(\"my_script.py\")\n",
        "  time.sleep(10*60)"
      ],
      "execution_count": 0,
      "outputs": []
    }
  ]
}